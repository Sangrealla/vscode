{
 "cells": [
  {
   "cell_type": "code",
   "execution_count": 2,
   "metadata": {},
   "outputs": [],
   "source": [
    "import pandas as pd"
   ]
  },
  {
   "cell_type": "code",
   "execution_count": 3,
   "metadata": {},
   "outputs": [],
   "source": [
    "import numpy as np"
   ]
  },
  {
   "cell_type": "code",
   "execution_count": 4,
   "metadata": {},
   "outputs": [],
   "source": [
    "sample = pd.DataFrame(np.random.randn(4,5),columns = ['a','b','c','d','e'])"
   ]
  },
  {
   "cell_type": "code",
   "execution_count": 5,
   "metadata": {},
   "outputs": [
    {
     "data": {
      "text/html": [
       "<div>\n",
       "<style scoped>\n",
       "    .dataframe tbody tr th:only-of-type {\n",
       "        vertical-align: middle;\n",
       "    }\n",
       "\n",
       "    .dataframe tbody tr th {\n",
       "        vertical-align: top;\n",
       "    }\n",
       "\n",
       "    .dataframe thead th {\n",
       "        text-align: right;\n",
       "    }\n",
       "</style>\n",
       "<table border=\"1\" class=\"dataframe\">\n",
       "  <thead>\n",
       "    <tr style=\"text-align: right;\">\n",
       "      <th></th>\n",
       "      <th>a</th>\n",
       "      <th>b</th>\n",
       "      <th>c</th>\n",
       "      <th>d</th>\n",
       "      <th>e</th>\n",
       "    </tr>\n",
       "  </thead>\n",
       "  <tbody>\n",
       "    <tr>\n",
       "      <th>0</th>\n",
       "      <td>-1.287315</td>\n",
       "      <td>-0.199244</td>\n",
       "      <td>-1.072888</td>\n",
       "      <td>0.152317</td>\n",
       "      <td>-0.352392</td>\n",
       "    </tr>\n",
       "    <tr>\n",
       "      <th>1</th>\n",
       "      <td>-0.683198</td>\n",
       "      <td>-0.163419</td>\n",
       "      <td>1.207898</td>\n",
       "      <td>0.764468</td>\n",
       "      <td>0.987563</td>\n",
       "    </tr>\n",
       "    <tr>\n",
       "      <th>2</th>\n",
       "      <td>-1.696017</td>\n",
       "      <td>-1.027687</td>\n",
       "      <td>0.020954</td>\n",
       "      <td>0.336637</td>\n",
       "      <td>0.836577</td>\n",
       "    </tr>\n",
       "    <tr>\n",
       "      <th>3</th>\n",
       "      <td>0.214672</td>\n",
       "      <td>1.428613</td>\n",
       "      <td>-1.456145</td>\n",
       "      <td>2.953160</td>\n",
       "      <td>0.317598</td>\n",
       "    </tr>\n",
       "  </tbody>\n",
       "</table>\n",
       "</div>"
      ],
      "text/plain": [
       "          a         b         c         d         e\n",
       "0 -1.287315 -0.199244 -1.072888  0.152317 -0.352392\n",
       "1 -0.683198 -0.163419  1.207898  0.764468  0.987563\n",
       "2 -1.696017 -1.027687  0.020954  0.336637  0.836577\n",
       "3  0.214672  1.428613 -1.456145  2.953160  0.317598"
      ]
     },
     "execution_count": 5,
     "metadata": {},
     "output_type": "execute_result"
    }
   ],
   "source": [
    "sample"
   ]
  },
  {
   "cell_type": "code",
   "execution_count": 20,
   "metadata": {},
   "outputs": [
    {
     "name": "stdout",
     "output_type": "stream",
     "text": [
      "          a         b         c         d         e  new_column\n",
      "0 -1.287315 -0.199244 -1.072888  0.152317 -0.352392   -1.088071\n",
      "1 -0.683198 -0.163419  1.207898  0.764468  0.987563   -0.519779\n",
      "2 -1.696017 -1.027687  0.020954  0.336637  0.836577   -0.668330\n",
      "3  0.214672  1.428613 -1.456145  2.953160  0.317598   -1.213942\n"
     ]
    }
   ],
   "source": [
    "sample['new_column'] = sample['a']-sample['b']\n",
    "print(sample)"
   ]
  },
  {
   "cell_type": "code",
   "execution_count": null,
   "metadata": {},
   "outputs": [],
   "source": []
  }
 ],
 "metadata": {
  "kernelspec": {
   "display_name": "Python 3",
   "language": "python",
   "name": "python3"
  },
  "language_info": {
   "codemirror_mode": {
    "name": "ipython",
    "version": 3
   },
   "file_extension": ".py",
   "mimetype": "text/x-python",
   "name": "python",
   "nbconvert_exporter": "python",
   "pygments_lexer": "ipython3",
   "version": "3.7.6"
  }
 },
 "nbformat": 4,
 "nbformat_minor": 4
}
