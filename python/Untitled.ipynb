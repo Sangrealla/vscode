{
 "cells": [
  {
   "cell_type": "code",
   "execution_count": 1,
   "metadata": {},
   "outputs": [],
   "source": [
    "import pandas as pd"
   ]
  },
  {
   "cell_type": "code",
   "execution_count": 2,
   "metadata": {},
   "outputs": [],
   "source": [
    "import numpy as np"
   ]
  },
  {
   "cell_type": "code",
   "execution_count": 3,
   "metadata": {},
   "outputs": [],
   "source": [
    "sample = pd.DataFrame(np.random.randn(4,5),columns = ['a','b','c','d','e'])"
   ]
  },
  {
   "cell_type": "code",
   "execution_count": 4,
   "metadata": {},
   "outputs": [
    {
     "data": {
      "text/html": [
       "<div>\n",
       "<style scoped>\n",
       "    .dataframe tbody tr th:only-of-type {\n",
       "        vertical-align: middle;\n",
       "    }\n",
       "\n",
       "    .dataframe tbody tr th {\n",
       "        vertical-align: top;\n",
       "    }\n",
       "\n",
       "    .dataframe thead th {\n",
       "        text-align: right;\n",
       "    }\n",
       "</style>\n",
       "<table border=\"1\" class=\"dataframe\">\n",
       "  <thead>\n",
       "    <tr style=\"text-align: right;\">\n",
       "      <th></th>\n",
       "      <th>a</th>\n",
       "      <th>b</th>\n",
       "      <th>c</th>\n",
       "      <th>d</th>\n",
       "      <th>e</th>\n",
       "    </tr>\n",
       "  </thead>\n",
       "  <tbody>\n",
       "    <tr>\n",
       "      <th>0</th>\n",
       "      <td>0.126917</td>\n",
       "      <td>0.154662</td>\n",
       "      <td>0.105825</td>\n",
       "      <td>-0.492680</td>\n",
       "      <td>-1.111531</td>\n",
       "    </tr>\n",
       "    <tr>\n",
       "      <th>1</th>\n",
       "      <td>-1.491444</td>\n",
       "      <td>0.512221</td>\n",
       "      <td>0.908649</td>\n",
       "      <td>-0.489733</td>\n",
       "      <td>-0.865491</td>\n",
       "    </tr>\n",
       "    <tr>\n",
       "      <th>2</th>\n",
       "      <td>-1.431227</td>\n",
       "      <td>-0.554035</td>\n",
       "      <td>-0.321970</td>\n",
       "      <td>2.114362</td>\n",
       "      <td>-0.431828</td>\n",
       "    </tr>\n",
       "    <tr>\n",
       "      <th>3</th>\n",
       "      <td>-0.247981</td>\n",
       "      <td>1.760124</td>\n",
       "      <td>-0.575325</td>\n",
       "      <td>0.252193</td>\n",
       "      <td>1.127991</td>\n",
       "    </tr>\n",
       "  </tbody>\n",
       "</table>\n",
       "</div>"
      ],
      "text/plain": [
       "          a         b         c         d         e\n",
       "0  0.126917  0.154662  0.105825 -0.492680 -1.111531\n",
       "1 -1.491444  0.512221  0.908649 -0.489733 -0.865491\n",
       "2 -1.431227 -0.554035 -0.321970  2.114362 -0.431828\n",
       "3 -0.247981  1.760124 -0.575325  0.252193  1.127991"
      ]
     },
     "execution_count": 4,
     "metadata": {},
     "output_type": "execute_result"
    }
   ],
   "source": [
    "sample"
   ]
  },
  {
   "cell_type": "code",
   "execution_count": 5,
   "metadata": {},
   "outputs": [],
   "source": [
    "sample['new_column'] = sample['a']-sample['b']"
   ]
  },
  {
   "cell_type": "code",
   "execution_count": 6,
   "metadata": {},
   "outputs": [
    {
     "data": {
      "text/html": [
       "<div>\n",
       "<style scoped>\n",
       "    .dataframe tbody tr th:only-of-type {\n",
       "        vertical-align: middle;\n",
       "    }\n",
       "\n",
       "    .dataframe tbody tr th {\n",
       "        vertical-align: top;\n",
       "    }\n",
       "\n",
       "    .dataframe thead th {\n",
       "        text-align: right;\n",
       "    }\n",
       "</style>\n",
       "<table border=\"1\" class=\"dataframe\">\n",
       "  <thead>\n",
       "    <tr style=\"text-align: right;\">\n",
       "      <th></th>\n",
       "      <th>a</th>\n",
       "      <th>b</th>\n",
       "      <th>c</th>\n",
       "      <th>d</th>\n",
       "      <th>e</th>\n",
       "      <th>new_column</th>\n",
       "    </tr>\n",
       "  </thead>\n",
       "  <tbody>\n",
       "    <tr>\n",
       "      <th>0</th>\n",
       "      <td>0.126917</td>\n",
       "      <td>0.154662</td>\n",
       "      <td>0.105825</td>\n",
       "      <td>-0.492680</td>\n",
       "      <td>-1.111531</td>\n",
       "      <td>-0.027745</td>\n",
       "    </tr>\n",
       "    <tr>\n",
       "      <th>1</th>\n",
       "      <td>-1.491444</td>\n",
       "      <td>0.512221</td>\n",
       "      <td>0.908649</td>\n",
       "      <td>-0.489733</td>\n",
       "      <td>-0.865491</td>\n",
       "      <td>-2.003664</td>\n",
       "    </tr>\n",
       "    <tr>\n",
       "      <th>2</th>\n",
       "      <td>-1.431227</td>\n",
       "      <td>-0.554035</td>\n",
       "      <td>-0.321970</td>\n",
       "      <td>2.114362</td>\n",
       "      <td>-0.431828</td>\n",
       "      <td>-0.877193</td>\n",
       "    </tr>\n",
       "    <tr>\n",
       "      <th>3</th>\n",
       "      <td>-0.247981</td>\n",
       "      <td>1.760124</td>\n",
       "      <td>-0.575325</td>\n",
       "      <td>0.252193</td>\n",
       "      <td>1.127991</td>\n",
       "      <td>-2.008105</td>\n",
       "    </tr>\n",
       "  </tbody>\n",
       "</table>\n",
       "</div>"
      ],
      "text/plain": [
       "          a         b         c         d         e  new_column\n",
       "0  0.126917  0.154662  0.105825 -0.492680 -1.111531   -0.027745\n",
       "1 -1.491444  0.512221  0.908649 -0.489733 -0.865491   -2.003664\n",
       "2 -1.431227 -0.554035 -0.321970  2.114362 -0.431828   -0.877193\n",
       "3 -0.247981  1.760124 -0.575325  0.252193  1.127991   -2.008105"
      ]
     },
     "execution_count": 6,
     "metadata": {},
     "output_type": "execute_result"
    }
   ],
   "source": [
    "sample"
   ]
  },
  {
   "cell_type": "code",
   "execution_count": 7,
   "metadata": {},
   "outputs": [
    {
     "data": {
      "text/html": [
       "<div>\n",
       "<style scoped>\n",
       "    .dataframe tbody tr th:only-of-type {\n",
       "        vertical-align: middle;\n",
       "    }\n",
       "\n",
       "    .dataframe tbody tr th {\n",
       "        vertical-align: top;\n",
       "    }\n",
       "\n",
       "    .dataframe thead th {\n",
       "        text-align: right;\n",
       "    }\n",
       "</style>\n",
       "<table border=\"1\" class=\"dataframe\">\n",
       "  <thead>\n",
       "    <tr style=\"text-align: right;\">\n",
       "      <th></th>\n",
       "      <th>a</th>\n",
       "      <th>b</th>\n",
       "      <th>c</th>\n",
       "      <th>d</th>\n",
       "      <th>e</th>\n",
       "      <th>new_column</th>\n",
       "      <th>new1</th>\n",
       "      <th>new2</th>\n",
       "    </tr>\n",
       "  </thead>\n",
       "  <tbody>\n",
       "    <tr>\n",
       "      <th>0</th>\n",
       "      <td>0.126917</td>\n",
       "      <td>0.154662</td>\n",
       "      <td>0.105825</td>\n",
       "      <td>-0.492680</td>\n",
       "      <td>-1.111531</td>\n",
       "      <td>-0.027745</td>\n",
       "      <td>-0.027745</td>\n",
       "      <td>0.281579</td>\n",
       "    </tr>\n",
       "    <tr>\n",
       "      <th>1</th>\n",
       "      <td>-1.491444</td>\n",
       "      <td>0.512221</td>\n",
       "      <td>0.908649</td>\n",
       "      <td>-0.489733</td>\n",
       "      <td>-0.865491</td>\n",
       "      <td>-2.003664</td>\n",
       "      <td>-2.003664</td>\n",
       "      <td>-0.979223</td>\n",
       "    </tr>\n",
       "    <tr>\n",
       "      <th>2</th>\n",
       "      <td>-1.431227</td>\n",
       "      <td>-0.554035</td>\n",
       "      <td>-0.321970</td>\n",
       "      <td>2.114362</td>\n",
       "      <td>-0.431828</td>\n",
       "      <td>-0.877193</td>\n",
       "      <td>-0.877193</td>\n",
       "      <td>-1.985262</td>\n",
       "    </tr>\n",
       "    <tr>\n",
       "      <th>3</th>\n",
       "      <td>-0.247981</td>\n",
       "      <td>1.760124</td>\n",
       "      <td>-0.575325</td>\n",
       "      <td>0.252193</td>\n",
       "      <td>1.127991</td>\n",
       "      <td>-2.008105</td>\n",
       "      <td>-2.008105</td>\n",
       "      <td>1.512143</td>\n",
       "    </tr>\n",
       "  </tbody>\n",
       "</table>\n",
       "</div>"
      ],
      "text/plain": [
       "          a         b         c         d         e  new_column      new1  \\\n",
       "0  0.126917  0.154662  0.105825 -0.492680 -1.111531   -0.027745 -0.027745   \n",
       "1 -1.491444  0.512221  0.908649 -0.489733 -0.865491   -2.003664 -2.003664   \n",
       "2 -1.431227 -0.554035 -0.321970  2.114362 -0.431828   -0.877193 -0.877193   \n",
       "3 -0.247981  1.760124 -0.575325  0.252193  1.127991   -2.008105 -2.008105   \n",
       "\n",
       "       new2  \n",
       "0  0.281579  \n",
       "1 -0.979223  \n",
       "2 -1.985262  \n",
       "3  1.512143  "
      ]
     },
     "execution_count": 7,
     "metadata": {},
     "output_type": "execute_result"
    }
   ],
   "source": [
    "sample.assign(new1 = sample['a']-sample['b'],new2 = sample['a']+sample['b'] )"
   ]
  },
  {
   "cell_type": "code",
   "execution_count": null,
   "metadata": {},
   "outputs": [],
   "source": []
  }
 ],
 "metadata": {
  "kernelspec": {
   "display_name": "Python 3",
   "language": "python",
   "name": "python3"
  },
  "language_info": {
   "codemirror_mode": {
    "name": "ipython",
    "version": 3
   },
   "file_extension": ".py",
   "mimetype": "text/x-python",
   "name": "python",
   "nbconvert_exporter": "python",
   "pygments_lexer": "ipython3",
   "version": "3.7.6"
  }
 },
 "nbformat": 4,
 "nbformat_minor": 4
}
